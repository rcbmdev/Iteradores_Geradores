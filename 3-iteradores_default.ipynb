{
 "cells": [
  {
   "cell_type": "code",
   "execution_count": 1,
   "metadata": {},
   "outputs": [],
   "source": [
    "import itertools"
   ]
  },
  {
   "cell_type": "code",
   "execution_count": 2,
   "metadata": {},
   "outputs": [
    {
     "name": "stdout",
     "output_type": "stream",
     "text": [
      "0\n",
      "1\n",
      "2\n",
      "3\n",
      "4\n"
     ]
    }
   ],
   "source": [
    "#Exemplo 1 - Range()\n",
    "for i in range(5):\n",
    "    print(i)"
   ]
  },
  {
   "cell_type": "code",
   "execution_count": 4,
   "metadata": {},
   "outputs": [
    {
     "name": "stdout",
     "output_type": "stream",
     "text": [
      "Maçã\n",
      "Banana\n",
      "Laranja\n"
     ]
    }
   ],
   "source": [
    "#Exemplo 2 - Iterar Lista\n",
    "frutas = ['Maçã', 'Banana', 'Laranja']\n",
    "for fruta in frutas:\n",
    "    print(fruta)"
   ]
  },
  {
   "cell_type": "code",
   "execution_count": 7,
   "metadata": {},
   "outputs": [
    {
     "name": "stdout",
     "output_type": "stream",
     "text": [
      "nome Alice\n",
      "idade 30\n"
     ]
    }
   ],
   "source": [
    "#Exemplo 3 - Iterar Dicionário\n",
    "pessoa = {'nome': 'Alice', 'idade': 30}\n",
    "for chave in pessoa:\n",
    "    print(chave, pessoa[chave])"
   ]
  },
  {
   "cell_type": "code",
   "execution_count": 8,
   "metadata": {},
   "outputs": [
    {
     "name": "stdout",
     "output_type": "stream",
     "text": [
      "0 Maçã\n",
      "1 Banana\n",
      "2 Laranja\n"
     ]
    }
   ],
   "source": [
    "#Exemplo 4 - Enumerate()\n",
    "for indice, fruta in enumerate(frutas):\n",
    "    print(indice, fruta)"
   ]
  },
  {
   "cell_type": "code",
   "execution_count": 9,
   "metadata": {},
   "outputs": [
    {
     "name": "stdout",
     "output_type": "stream",
     "text": [
      "Alice 30\n",
      "Bob 25\n",
      "Carlos 35\n"
     ]
    }
   ],
   "source": [
    "#Exemplo 5 - Zip()\n",
    "nomes = ['Alice', 'Bob', 'Carlos']\n",
    "idades = [30, 25, 35]\n",
    "for nome, idade in zip(nomes, idades):\n",
    "    print(nome, idade)"
   ]
  },
  {
   "cell_type": "code",
   "execution_count": 10,
   "metadata": {},
   "outputs": [
    {
     "name": "stdout",
     "output_type": "stream",
     "text": [
      "10\n",
      "12\n",
      "14\n",
      "16\n",
      "18\n",
      "20\n"
     ]
    }
   ],
   "source": [
    "#Exemplo 6 - Itertools\n",
    "for i in itertools.count(start=10, step=2):\n",
    "    if i > 20:\n",
    "        break\n",
    "    print(i)"
   ]
  }
 ],
 "metadata": {
  "kernelspec": {
   "display_name": "Python 3",
   "language": "python",
   "name": "python3"
  },
  "language_info": {
   "codemirror_mode": {
    "name": "ipython",
    "version": 3
   },
   "file_extension": ".py",
   "mimetype": "text/x-python",
   "name": "python",
   "nbconvert_exporter": "python",
   "pygments_lexer": "ipython3",
   "version": "3.11.5"
  }
 },
 "nbformat": 4,
 "nbformat_minor": 2
}
