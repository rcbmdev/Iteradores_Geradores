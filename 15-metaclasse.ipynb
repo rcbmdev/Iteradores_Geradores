{
 "cells": [
  {
   "cell_type": "markdown",
   "metadata": {},
   "source": [
    "Metaclasse\n",
    "- Cria classe de forma dinâmica.\n",
    "- Pode ser útil na criação de frameworks onde as classes precisam ter um comportamento específico"
   ]
  },
  {
   "cell_type": "code",
   "execution_count": 1,
   "metadata": {},
   "outputs": [],
   "source": [
    "class MeuMeta(type):\n",
    "    def __new__(cls, nome, bases, dct):\n",
    "        dct['novo_atributo'] = 'Valor adicionado pela metaclasse'\n",
    "        return super().__new__(cls, nome, bases, dct)"
   ]
  },
  {
   "cell_type": "code",
   "execution_count": 2,
   "metadata": {},
   "outputs": [],
   "source": [
    "class MinhaClasse(metaclass=MeuMeta):\n",
    "    pass"
   ]
  },
  {
   "cell_type": "code",
   "execution_count": 4,
   "metadata": {},
   "outputs": [
    {
     "data": {
      "text/plain": [
       "'Valor adicionado pela metaclasse'"
      ]
     },
     "execution_count": 4,
     "metadata": {},
     "output_type": "execute_result"
    }
   ],
   "source": [
    "obj = MinhaClasse()\n",
    "obj.novo_atributo"
   ]
  },
  {
   "cell_type": "code",
   "execution_count": 21,
   "metadata": {},
   "outputs": [],
   "source": [
    "class ValidadorMeta(type):\n",
    "    def __new__(cls, nome, bases, dct):\n",
    "        # Dicionário para armazenar as validações\n",
    "        validacoes = dct.get('validacoes', {})\n",
    "        \n",
    "        for attr, tipo in validacoes.items():\n",
    "            if not callable(tipo):\n",
    "                raise TypeError(f\"O tipo de validação para '{attr}' deve ser uma função.\")\n",
    "            \n",
    "            # Adiciona uma nova função de validação\n",
    "            def valida_func(self, value, attr=attr, tipo=tipo):\n",
    "                if not isinstance(value, tipo):\n",
    "                    raise ValueError(f\"'{attr}' deve ser do tipo {tipo.__name__}\")\n",
    "                self.__dict__[attr] = value\n",
    "\n",
    "            # Renomeia a função para evitar problemas de escopo\n",
    "            valida_func.__name__ = f\"set_{attr}\"\n",
    "\n",
    "            dct[f\"set_{attr}\"] = valida_func\n",
    "        \n",
    "        return super().__new__(cls, nome, bases, dct)"
   ]
  },
  {
   "cell_type": "code",
   "execution_count": 24,
   "metadata": {},
   "outputs": [],
   "source": [
    "class Usuario(metaclass=ValidadorMeta):\n",
    "    validacoes = {\n",
    "        'nome': str,\n",
    "        'idade': int,\n",
    "    }\n",
    "\n",
    "    def __init__(self, nome, idade):\n",
    "        self.set_nome(nome)\n",
    "        self.set_idade(idade)"
   ]
  },
  {
   "cell_type": "code",
   "execution_count": 29,
   "metadata": {},
   "outputs": [
    {
     "name": "stdout",
     "output_type": "stream",
     "text": [
      "Nome: Alice, Idade: 30\n",
      "'idade' deve ser do tipo int\n"
     ]
    }
   ],
   "source": [
    "try:\n",
    "    user = Usuario(\"Alice\", 30)\n",
    "    print(f\"Nome: {user.nome}, Idade: {user.idade}\")\n",
    "\n",
    "    # Tentativa de atribuir um tipo inválido\n",
    "    user.set_idade(\"trinta\")  # Isso irá gerar um ValueError\n",
    "    # user.set_nome(30)\n",
    "except ValueError as e:\n",
    "    print(e)"
   ]
  }
 ],
 "metadata": {
  "kernelspec": {
   "display_name": "Python 3",
   "language": "python",
   "name": "python3"
  },
  "language_info": {
   "codemirror_mode": {
    "name": "ipython",
    "version": 3
   },
   "file_extension": ".py",
   "mimetype": "text/x-python",
   "name": "python",
   "nbconvert_exporter": "python",
   "pygments_lexer": "ipython3",
   "version": "3.11.5"
  }
 },
 "nbformat": 4,
 "nbformat_minor": 2
}
