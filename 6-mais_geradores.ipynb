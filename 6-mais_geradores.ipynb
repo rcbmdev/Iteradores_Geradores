{
 "cells": [
  {
   "cell_type": "code",
   "execution_count": 1,
   "metadata": {},
   "outputs": [
    {
     "name": "stdout",
     "output_type": "stream",
     "text": [
      "0\n",
      "1\n",
      "4\n",
      "9\n",
      "16\n",
      "25\n",
      "36\n",
      "49\n",
      "64\n",
      "81\n"
     ]
    }
   ],
   "source": [
    "#1-Gerador de expressão\n",
    "quadrados = (x ** 2 for x in range(10))\n",
    "for quadrado in quadrados:\n",
    "    print(quadrado)"
   ]
  },
  {
   "cell_type": "code",
   "execution_count": 2,
   "metadata": {},
   "outputs": [
    {
     "name": "stdout",
     "output_type": "stream",
     "text": [
      "0\n",
      "1\n",
      "2\n",
      "3\n",
      "4\n",
      "5\n",
      "6\n",
      "7\n",
      "8\n",
      "9\n"
     ]
    }
   ],
   "source": [
    "#2-Iterador Infinito\n",
    "def contador_infinito():\n",
    "    i = 0\n",
    "    while True:\n",
    "        yield i\n",
    "        i += 1\n",
    "contador = contador_infinito()\n",
    "for _ in range(10):\n",
    "    print(next(contador))"
   ]
  },
  {
   "cell_type": "code",
   "execution_count": 4,
   "metadata": {},
   "outputs": [
    {
     "name": "stdout",
     "output_type": "stream",
     "text": [
      "10\n",
      "15\n",
      "30\n"
     ]
    }
   ],
   "source": [
    "#3-Coleta de Valores com send()\n",
    "def gerador_soma():\n",
    "    total = 0\n",
    "    while True:\n",
    "        valor = yield total # Recebe um valor e retorna o total acumulado\n",
    "        if valor is not None:\n",
    "            total += valor\n",
    "\n",
    "soma = gerador_soma()\n",
    "next(soma) #Inicializa o gerador\n",
    "print(soma.send(10))\n",
    "print(soma.send(5))\n",
    "print(soma.send(15))"
   ]
  },
  {
   "cell_type": "code",
   "execution_count": 5,
   "metadata": {},
   "outputs": [
    {
     "name": "stdout",
     "output_type": "stream",
     "text": [
      "Valor recebido: 10\n",
      "Valor inválido!\n"
     ]
    },
    {
     "ename": "StopIteration",
     "evalue": "",
     "output_type": "error",
     "traceback": [
      "\u001b[1;31m---------------------------------------------------------------------------\u001b[0m",
      "\u001b[1;31mStopIteration\u001b[0m                             Traceback (most recent call last)",
      "Cell \u001b[1;32mIn[5], line 13\u001b[0m\n\u001b[0;32m     11\u001b[0m \u001b[38;5;28mnext\u001b[39m(g)\n\u001b[0;32m     12\u001b[0m g\u001b[38;5;241m.\u001b[39msend(\u001b[38;5;241m10\u001b[39m)\n\u001b[1;32m---> 13\u001b[0m \u001b[43mg\u001b[49m\u001b[38;5;241;43m.\u001b[39;49m\u001b[43mthrow\u001b[49m\u001b[43m(\u001b[49m\u001b[38;5;167;43;01mValueError\u001b[39;49;00m\u001b[43m)\u001b[49m\n",
      "\u001b[1;31mStopIteration\u001b[0m: "
     ]
    }
   ],
   "source": [
    "#4-Tratamento de Exceções\n",
    "def gerador_excecao():\n",
    "    try:\n",
    "        while True:\n",
    "            valor = yield\n",
    "            print(f\"Valor recebido: {valor}\")\n",
    "    except ValueError:\n",
    "        print(\"Valor inválido!\")\n",
    "        \n",
    "g = gerador_excecao()\n",
    "next(g)\n",
    "g.send(10)\n",
    "g.throw(ValueError)"
   ]
  },
  {
   "cell_type": "code",
   "execution_count": 6,
   "metadata": {},
   "outputs": [
    {
     "name": "stdout",
     "output_type": "stream",
     "text": [
      "5\n",
      "7\n",
      "9\n",
      "11\n",
      "13\n"
     ]
    }
   ],
   "source": [
    "#5-Cascata de Geradores\n",
    "def multiplicar_por_dois(iterable):\n",
    "    for i in iterable:\n",
    "        yield i * 2\n",
    "        \n",
    "def adicionar_cinco(iterable):\n",
    "    for i in iterable:\n",
    "        yield i + 5\n",
    "        \n",
    "numeros = range(5) # 0, 1, 2, 3, 4\n",
    "resultado = adicionar_cinco(multiplicar_por_dois(numeros))\n",
    "for r in resultado:\n",
    "    print(r)"
   ]
  }
 ],
 "metadata": {
  "kernelspec": {
   "display_name": "Python 3",
   "language": "python",
   "name": "python3"
  },
  "language_info": {
   "codemirror_mode": {
    "name": "ipython",
    "version": 3
   },
   "file_extension": ".py",
   "mimetype": "text/x-python",
   "name": "python",
   "nbconvert_exporter": "python",
   "pygments_lexer": "ipython3",
   "version": "3.11.5"
  }
 },
 "nbformat": 4,
 "nbformat_minor": 2
}
