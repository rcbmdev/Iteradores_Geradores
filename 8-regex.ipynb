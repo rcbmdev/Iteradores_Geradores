{
 "cells": [
  {
   "cell_type": "code",
   "execution_count": 1,
   "metadata": {},
   "outputs": [],
   "source": [
    "import re"
   ]
  },
  {
   "cell_type": "code",
   "execution_count": 17,
   "metadata": {},
   "outputs": [],
   "source": [
    "def explorar_expressao_regular(texto):\n",
    "    padrao = r'\\bPython\\b' # Palavra \"Python\"\n",
    "    if re.search(padrao, texto):\n",
    "        print(\"O padrão foi encontrado no texto.\")\n",
    "    else:\n",
    "        print(\"O padrão não foi encontrado no texto.\")\n",
    "    # Idenficação de e-mails    \n",
    "    padrao_email = r'[a-zA-Z0-9._%+-]+@[a-zA-Z0-9.-]+\\.[a-zA-Z]{2,}'\n",
    "    emails = re.findall(padrao_email, texto)\n",
    "    print(f\"E-mails encontrados: {emails}\")\n",
    "    \n",
    "    # Substituir um padrão por outro\n",
    "    texto_substituido = re.sub(r'Python', 'Javascript', texto)\n",
    "    print(texto_substituido)\n",
    "    \n",
    "    # Dividir uma string com base em um padrão\n",
    "    texto_dividido = re.split(r'\\s+', texto)\n",
    "    print(texto_dividido)"
   ]
  },
  {
   "cell_type": "code",
   "execution_count": 18,
   "metadata": {},
   "outputs": [
    {
     "name": "stdout",
     "output_type": "stream",
     "text": [
      "O padrão foi encontrado no texto.\n",
      "E-mails encontrados: ['exemplo@dominio.com', 'fulano@example.org']\n",
      "\n",
      "Olá, eu sou um desenvolvedor Javascript.\n",
      "Você pode me contatar em meu email: exemplo@dominio.com.\n",
      "Javascript é uma linguagem de programação popular.\n",
      "fulano@example.org\n",
      "\n",
      "['', 'Olá,', 'eu', 'sou', 'um', 'desenvolvedor', 'Python.', 'Você', 'pode', 'me', 'contatar', 'em', 'meu', 'email:', 'exemplo@dominio.com.', 'Python', 'é', 'uma', 'linguagem', 'de', 'programação', 'popular.', 'fulano@example.org', '']\n"
     ]
    }
   ],
   "source": [
    "texto_exemplo = \"\"\"\n",
    "Olá, eu sou um desenvolvedor Python.\n",
    "Você pode me contatar em meu email: exemplo@dominio.com.\n",
    "Python é uma linguagem de programação popular.\n",
    "fulano@example.org\n",
    "\"\"\"\n",
    "explorar_expressao_regular(texto_exemplo)"
   ]
  }
 ],
 "metadata": {
  "kernelspec": {
   "display_name": "Python 3",
   "language": "python",
   "name": "python3"
  },
  "language_info": {
   "codemirror_mode": {
    "name": "ipython",
    "version": 3
   },
   "file_extension": ".py",
   "mimetype": "text/x-python",
   "name": "python",
   "nbconvert_exporter": "python",
   "pygments_lexer": "ipython3",
   "version": "3.11.5"
  }
 },
 "nbformat": 4,
 "nbformat_minor": 2
}
