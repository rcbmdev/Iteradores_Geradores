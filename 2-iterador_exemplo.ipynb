{
 "cells": [
  {
   "cell_type": "code",
   "execution_count": 1,
   "metadata": {},
   "outputs": [],
   "source": [
    "class NomeComLetra:\n",
    "    def __init__(self, nomes, letra):\n",
    "        self.nomes = nomes\n",
    "        self.letra = letra\n",
    "        self.index = 0\n",
    "        \n",
    "    def __iter__(self):\n",
    "        return self\n",
    "    \n",
    "    def __next__(self):\n",
    "        while self.index < len(self.nomes):\n",
    "            nome = self.nomes[self.index]\n",
    "            self.index += 1\n",
    "            if nome.startswith(self.letra):\n",
    "                return nome\n",
    "        raise StopIteration"
   ]
  },
  {
   "cell_type": "code",
   "execution_count": 6,
   "metadata": {},
   "outputs": [
    {
     "name": "stdout",
     "output_type": "stream",
     "text": [
      "Alice\n",
      "Ana\n",
      "Amanda\n"
     ]
    }
   ],
   "source": [
    "lista_nomes = ['Alice', 'Bob', 'Ana', 'Carlos', 'Amanda', 'Bruno']\n",
    "letra = 'A'\n",
    "iterador_nomes = NomeComLetra(lista_nomes, letra)\n",
    "\n",
    "for nome in iterador_nomes:\n",
    "    print(nome)"
   ]
  }
 ],
 "metadata": {
  "kernelspec": {
   "display_name": "Python 3",
   "language": "python",
   "name": "python3"
  },
  "language_info": {
   "codemirror_mode": {
    "name": "ipython",
    "version": 3
   },
   "file_extension": ".py",
   "mimetype": "text/x-python",
   "name": "python",
   "nbconvert_exporter": "python",
   "pygments_lexer": "ipython3",
   "version": "3.11.5"
  }
 },
 "nbformat": 4,
 "nbformat_minor": 2
}
