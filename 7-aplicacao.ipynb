{
 "cells": [
  {
   "cell_type": "code",
   "execution_count": 4,
   "metadata": {},
   "outputs": [],
   "source": [
    "class VendasIterator:\n",
    "    def __init__(self, arquivo):\n",
    "        self.arquivo = arquivo\n",
    "        self.file = open(arquivo, 'r', encoding='utf-8')\n",
    "        \n",
    "    def __iter__(self):\n",
    "        return self\n",
    "    \n",
    "    def __next__(self):\n",
    "        linha = self.file.readline()\n",
    "        if not linha:\n",
    "            self.file.close() # Fecha o arquivo ao final\n",
    "            raise StopIteration\n",
    "        categoria, valor = linha.strip().split(',')\n",
    "        return categoria, float(valor)"
   ]
  },
  {
   "cell_type": "code",
   "execution_count": 5,
   "metadata": {},
   "outputs": [],
   "source": [
    "def gerador_soma_vendas(arquivo):\n",
    "    total_vendas = 0\n",
    "    for categoria, valor in VendasIterator(arquivo):\n",
    "        total_vendas += valor\n",
    "        yield categoria, valor, total_vendas"
   ]
  },
  {
   "cell_type": "code",
   "execution_count": 6,
   "metadata": {},
   "outputs": [
    {
     "name": "stdout",
     "output_type": "stream",
     "text": [
      "Processando Vendas....\n",
      "Categoria: Eletrônicos, Valor R$: 300.00, Total R$: 300.00\n",
      "Categoria: Roupas, Valor R$: 150.00, Total R$: 450.00\n",
      "Categoria: Eletrônicos, Valor R$: 450.00, Total R$: 900.00\n",
      "Categoria: Alimentos, Valor R$: 100.00, Total R$: 1000.00\n",
      "Categoria: Roupas, Valor R$: 200.00, Total R$: 1200.00\n",
      "Categoria: Eletrônicos, Valor R$: 250.00, Total R$: 1450.00\n",
      "Eletrônicos: 3 vendas\n",
      "Roupas: 2 vendas\n",
      "Alimentos: 1 vendas\n"
     ]
    }
   ],
   "source": [
    "contagem_vendas = {}\n",
    "arquivo = \"vendas.txt\"\n",
    "print(\"Processando Vendas....\")\n",
    "for categoria, valor, total in gerador_soma_vendas(arquivo):\n",
    "    print(f\"Categoria: {categoria}, Valor R$: {valor:.2f}, Total R$: {total:.2f}\")\n",
    "    \n",
    "    # Contagem de vendas por categoria\n",
    "    if categoria not in contagem_vendas:\n",
    "        contagem_vendas[categoria] = 0\n",
    "    contagem_vendas[categoria] += 1\n",
    "\n",
    "for categoria, contagem in contagem_vendas.items():\n",
    "    print(f\"{categoria}: {contagem} vendas\")"
   ]
  }
 ],
 "metadata": {
  "kernelspec": {
   "display_name": "Python 3",
   "language": "python",
   "name": "python3"
  },
  "language_info": {
   "codemirror_mode": {
    "name": "ipython",
    "version": 3
   },
   "file_extension": ".py",
   "mimetype": "text/x-python",
   "name": "python",
   "nbconvert_exporter": "python",
   "pygments_lexer": "ipython3",
   "version": "3.11.5"
  }
 },
 "nbformat": 4,
 "nbformat_minor": 2
}
